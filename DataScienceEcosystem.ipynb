{
 "cells": [
  {
   "cell_type": "markdown",
   "id": "89e94755-0eca-45a2-89c8-ffacc5c6c2d6",
   "metadata": {},
   "source": [
    "# Data Science Tools and Ecosystem"
   ]
  },
  {
   "cell_type": "markdown",
   "id": "6006f7d3-9e8f-490c-b55d-4bb30a5be9c4",
   "metadata": {},
   "source": [
    "In this notebook, Data Science Tools and Ecosystem are summarized."
   ]
  },
  {
   "cell_type": "markdown",
   "id": "eab9f7c8-efaf-48c0-b08d-22d4354b33f5",
   "metadata": {},
   "source": [
    "**Objectives:**\n",
    "\n",
    "List popular languages for Data Science\n",
    "- Python\n",
    "- R\n",
    "- SQL"
   ]
  },
  {
   "cell_type": "markdown",
   "id": "fd4f401a-fb3d-44c5-bca4-ad81fb7da4db",
   "metadata": {},
   "source": [
    "Some of the popular languages that Data Scientists use are:em"
   ]
  },
  {
   "cell_type": "markdown",
   "id": "4076e473-5cac-4575-8a15-5e66eeb6d7fd",
   "metadata": {},
   "source": [
    "1. Python\n",
    "2. R\n",
    "3. SQL"
   ]
  },
  {
   "cell_type": "markdown",
   "id": "b1c515e8-820e-4f19-88c0-2515d256a3d0",
   "metadata": {},
   "source": [
    "Some of the commonly used libraries used by Data Scientists include:"
   ]
  },
  {
   "cell_type": "markdown",
   "id": "8d49282f-948e-4ee4-8abf-6f8e8815f922",
   "metadata": {},
   "source": [
    "1. Pandas\n",
    "2. Numpy\n",
    "3. Jupyter Notebooks"
   ]
  },
  {
   "cell_type": "markdown",
   "id": "50b444bf-2ca5-41a9-b7f4-78b11b092bb7",
   "metadata": {},
   "source": [
    "| Data Science Tools |\n",
    "| - |\n",
    "| Scikit-learn |\n",
    "| TensorFlow |\n",
    "| RStudio |"
   ]
  },
  {
   "cell_type": "markdown",
   "id": "4d77a777-2a90-422b-8d11-f932dd7a0b7d",
   "metadata": {},
   "source": [
    "Below are a few examples of evaluating arithmetic expressions in Python"
   ]
  },
  {
   "cell_type": "code",
   "execution_count": 1,
   "id": "dc3326d7-3a49-4b7d-ba81-425a99260eb7",
   "metadata": {},
   "outputs": [
    {
     "data": {
      "text/plain": [
       "17"
      ]
     },
     "execution_count": 1,
     "metadata": {},
     "output_type": "execute_result"
    }
   ],
   "source": [
    "(3*4)+5"
   ]
  },
  {
   "cell_type": "code",
   "execution_count": 2,
   "id": "eedb16cd-0b54-4b36-b44d-b2594a5fd5ef",
   "metadata": {},
   "outputs": [
    {
     "data": {
      "text/plain": [
       "3.3333333333333335"
      ]
     },
     "execution_count": 2,
     "metadata": {},
     "output_type": "execute_result"
    }
   ],
   "source": [
    "# This will convert 200 minutes to hours by diving by 60\n",
    "200 / 60"
   ]
  },
  {
   "cell_type": "markdown",
   "id": "a594c73e-76e2-4336-937b-9c98592082ed",
   "metadata": {},
   "source": [
    "## Author\n",
    "Ahmad Elamlah"
   ]
  },
  {
   "cell_type": "code",
   "execution_count": null,
   "id": "424462e6-3022-446a-b1d4-3c9090ed5aca",
   "metadata": {},
   "outputs": [],
   "source": []
  }
 ],
 "metadata": {
  "kernelspec": {
   "display_name": "Python 3 (ipykernel)",
   "language": "python",
   "name": "python3"
  },
  "language_info": {
   "codemirror_mode": {
    "name": "ipython",
    "version": 3
   },
   "file_extension": ".py",
   "mimetype": "text/x-python",
   "name": "python",
   "nbconvert_exporter": "python",
   "pygments_lexer": "ipython3",
   "version": "3.8.19"
  }
 },
 "nbformat": 4,
 "nbformat_minor": 5
}
